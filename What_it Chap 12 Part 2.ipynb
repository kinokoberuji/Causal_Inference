{
 "cells": [
  {
   "cell_type": "markdown",
   "metadata": {},
   "source": [
    "# What if in Python\n",
    "\n",
    "# Chương 12: Inverse Probability Weighting\n",
    "\n",
    "## Phần 2: Stabilized IPW (Program 12.3) \n",
    "\n",
    "### BS. Lê Ngọc Khả Nhi\n",
    "\n",
    "# Program 12.3\n",
    "\n",
    "## Bối cảnh\n",
    "\n",
    "Ở phần 1, chúng ta đang ở chương 12 và tính được Inverse Probability Weight từ propensity score qua Progam 12.2. Trong phần 2 này, chúng ta sẽ giải quyết Program 12.3 để học về phương pháp Stabilized IP weight.\n",
    "\n",
    "Nhắc lại về bối cảnh của bài toán, ta có 1 nghiên cứu nhằm trả lời câu hỏi liệu bỏ hút thuốc lá có phải là nguyên nhân gây thay đổi cân nặng trong thời gian 10 năm hay không ? Trong dữ liệu ta có biến qsmk chỉ yếu tố can thiệp là bỏ hút thuốc lá, giá trị nhị phân 0/1; biến kết quả là wt82_71 chỉ giá trị thay đổi cân nặng, và một số biến khác có thể có vai trò confounders.\n",
    "\n",
    "Ta chuẩn bị nhanh dữ liệu cho program 12.3:"
   ]
  },
  {
   "cell_type": "code",
   "execution_count": 1,
   "metadata": {},
   "outputs": [
    {
     "name": "stdout",
     "output_type": "stream",
     "text": [
      "-----\n",
      "matplotlib  3.2.1\n",
      "numpy       1.18.4\n",
      "pandas      1.0.3\n",
      "patsy       0.5.1\n",
      "scipy       1.4.1\n",
      "seaborn     0.10.0\n",
      "sinfo       0.3.1\n",
      "sklearn     0.22.2.post1\n",
      "statsmodels 0.11.1\n",
      "-----\n",
      "IPython             7.12.0\n",
      "jupyter_client      5.3.4\n",
      "jupyter_core        4.6.1\n",
      "jupyterlab          1.2.6\n",
      "notebook            6.0.3\n",
      "-----\n",
      "Python 3.7.6 (default, Jan  8 2020, 20:23:39) [MSC v.1916 64 bit (AMD64)]\n",
      "Windows-10-10.0.18362-SP0\n",
      "8 logical CPU cores, Intel64 Family 6 Model 158 Stepping 9, GenuineIntel\n",
      "-----\n",
      "Session information updated at 2020-07-02 18:18\n"
     ]
    }
   ],
   "source": [
    "import warnings\n",
    "warnings.filterwarnings('ignore')\n",
    "\n",
    "# Dataframe và random\n",
    "\n",
    "import numpy as np\n",
    "import pandas as pd\n",
    "\n",
    "# Stats\n",
    "import scipy\n",
    "\n",
    "# Đồ họa\n",
    "import matplotlib.pyplot as plt\n",
    "import seaborn as sns\n",
    "\n",
    "# GLM\n",
    "from patsy import dmatrices\n",
    "import statsmodels.formula.api as smf\n",
    "import statsmodels.api as sm\n",
    "\n",
    "\n",
    "# RF\n",
    "from sklearn.ensemble import RandomForestClassifier\n",
    "\n",
    "\n",
    "# Xem infos\n",
    "from sinfo import sinfo\n",
    "sinfo()"
   ]
  },
  {
   "cell_type": "code",
   "execution_count": 7,
   "metadata": {},
   "outputs": [
    {
     "name": "stdout",
     "output_type": "stream",
     "text": [
      "WARNING *** OLE2 inconsistency: SSCS size is 0 but SSAT size is non-zero\n"
     ]
    }
   ],
   "source": [
    "df = pd.read_excel('NHEFS.xls')\n",
    "\n",
    "check_cols = ['sex', 'age', 'race', 'wt82', \n",
    "             'ht', 'school', 'alcoholpy', \n",
    "             'smokeintensity']\n",
    "na_mask = df[check_cols].isna().any(axis=1)\n",
    "df_1 = df.loc[~na_mask]\n",
    "\n",
    "for col in ['age', 'wt71', 'smokeintensity', 'smokeyrs']:\n",
    "    df_1[f'{col}_2'] = df_1[col] ** 2\n",
    "    \n",
    "df2 = pd.concat([df_1] + [pd.get_dummies(df_1[col], prefix = col[:3])\n",
    "                 for col in ['education','exercise','active']],\n",
    "                axis = 1)"
   ]
  },
  {
   "cell_type": "markdown",
   "metadata": {},
   "source": [
    "## GIới thiệu khái niệm Stabilized IP weight \n",
    "\n",
    "Trong Program 12.2, ta nhận ra cơ chế của phương pháp Inverse probability weighting là áp dụng một trọng số W = 1/f(A|L) để giả lập một quần thể \"ảo\" mà trong đó mọi liên hệ giữa các hiệp biến (tập hợp L) và can thiệp điều trị (A) đều bị triệt tiêu. Khi áp dụng trọng số W, ta tạo ra 1 bản sao cho mỗi cá thể đã được can thiệp (A=1) hay không (A=0) và dùng các bản sao này trong quần thể ảo để làm phân tích thống kê. \n",
    "\n",
    "Con số 1 trong công thức 1/f(A|L) chỉ là 1 trường hợp đặc biệt, vì ta chỉ cần tạo ra 1 giá trị nghịch đảo bằng công thức tổng quát p/f(A|L) với p là xác suất với giá trị bất kì trong khoảng 0,1; ý nghĩa của p là xác suất nhận được can thiệp A. \n",
    "\n",
    "Mục tiêu cuối cùng của việc hiệu chỉnh chỉ là làm cho xác suất nhận (hay không nhận) can thiệp trở nên độc lập với tập biến L, và ta có thể đạt điều này bằng nhiều cách: thí dụ nếu muốn ta có thể áp dụng IPW = Pr[A=1] / f(A|L) cho nhóm can thiệp (A=1) và W = Pr[A=0] / f(A|L) cho nhóm chứng; \n",
    "\n",
    "Theo cách này, IPW trở nên ổn định hơn (phân bố hẹp hơn, ít phân tán hơn) so với IPW công thức 1/f(A|L). Đây là mục tiêu của Program 12.3: tạo stabilized weight (SW).\n",
    "\n",
    "Quy trình cần thực hiện bao gồm:\n",
    "\n",
    "1) Tính Pr[A = 1|L] để tạo ra mẫu số cho SIPW; ta nhận ra đây chính là propensity score nên có thể dùng lại hàm tính propensity score trong Program 12.2, nếu chỉ đơn giản nghịch đảo 1/Pr[A=1|L] ta sẽ có unstabilized IPW trong Program 12.2\n",
    "\n",
    "2) Tính Pr[A=1] : có thể làm bằng cách phi tham số (tỉ lệ: số trường hợp có A=1/cỡ mẫu) hoặc dựng một mô hình logistic chỉ chứa Intercept : pA ~ 1\n",
    "\n",
    "3) Gán cho mỗi cá thể 1 trọng số :\n",
    "\n",
    "Pr[A=1] / Pr[A=1|L] cho nhóm bỏ hút thuốc và (1 - Pr[A=1]) /(1 - Pr[A=1|L]) cho nhóm không bỏ hút.\n",
    "\n",
    "Nhi viết 1 hàm stab_ipw để thực hiện quy trình này, vì trong quá trình tính sw, ta có kết quả w = Pr[A = 1|L] nên có thể xuất luôn cả unstablized IPW (hay 1/w) lẫn stabilized IPW là sw"
   ]
  },
  {
   "cell_type": "code",
   "execution_count": 18,
   "metadata": {},
   "outputs": [],
   "source": [
    "def stab_ipw(X, y):\n",
    "    \n",
    "    # Bước 1\n",
    "    y = np.asarray(y).flatten()\n",
    "    mod = sm.Logit(y, X).fit()\n",
    "    w = np.zeros(X.shape[0])\n",
    "    w[y == 1] = mod.predict(X.loc[y == 1])\n",
    "    w[y == 0] = (1 - mod.predict(X.loc[y == 0]))\n",
    "    \n",
    "    # Bước 2\n",
    "    intervention = np.asarray(y == 1).flatten()\n",
    "    \n",
    "    # Bước 3\n",
    "    sw = np.zeros(X.shape[0])\n",
    "    sw[intervention] = intervention.mean() / w[intervention]\n",
    "    sw[~ intervention] = (1 - intervention.mean()) / w[~ intervention]\n",
    "    \n",
    "    return sw, 1/w # Chú thích: 1/w chính là unstabilized ipw"
   ]
  },
  {
   "cell_type": "code",
   "execution_count": null,
   "metadata": {},
   "outputs": [],
   "source": [
    "Ta sử dụng hàm này cho tập biến X (L) gồm các confounders đã chuyển thành dummy variables và "
   ]
  },
  {
   "cell_type": "code",
   "execution_count": 26,
   "metadata": {},
   "outputs": [],
   "source": [
    "form = 'qsmk ~ 1 + sex + race + \\\n",
    "age + age_2 + \\\n",
    "edu_2 + edu_3 + edu_4 + edu_5 + \\\n",
    "smokeintensity + smokeintensity_2 + \\\n",
    "smokeyrs + smokeyrs_2 + \\\n",
    "exercise + exe_1 + exe_2 + \\\n",
    "act_1 + act_2 + \\\n",
    "wt71 + wt71_2'\n",
    "\n",
    "y,L = dmatrices(form,  \n",
    "                data=df2,\n",
    "                return_type='dataframe')"
   ]
  },
  {
   "cell_type": "code",
   "execution_count": 27,
   "metadata": {},
   "outputs": [
    {
     "name": "stdout",
     "output_type": "stream",
     "text": [
      "Optimization terminated successfully.\n",
      "         Current function value: 0.535408\n",
      "         Iterations 6\n"
     ]
    }
   ],
   "source": [
    "sw, ipw = stab_ipw(X = L, y= y)"
   ]
  },
  {
   "cell_type": "markdown",
   "metadata": {},
   "source": [
    "Ta kiểm tra lại phân bố của Stabilized IPW thì thấy hoàn toàn giống như trong sách:\n",
    "\n",
    "Mean = 1, min = 0.33, max = 0.43\n",
    "\n",
    "Phân bố của sw hẹp hơn và ít phân tán hơn so với unstabilized ipw:"
   ]
  },
  {
   "cell_type": "code",
   "execution_count": 23,
   "metadata": {},
   "outputs": [
    {
     "data": {
      "text/plain": [
       "count    1566.000000\n",
       "mean        0.998844\n",
       "std         0.288223\n",
       "min         0.331249\n",
       "25%         0.866537\n",
       "50%         0.950281\n",
       "75%         1.079302\n",
       "max         4.297662\n",
       "dtype: float64"
      ]
     },
     "execution_count": 23,
     "metadata": {},
     "output_type": "execute_result"
    }
   ],
   "source": [
    "pd.Series(sw).describe()"
   ]
  },
  {
   "cell_type": "code",
   "execution_count": 29,
   "metadata": {},
   "outputs": [
    {
     "data": {
      "text/plain": [
       "count    1566.000000\n",
       "mean        1.996284\n",
       "std         1.474787\n",
       "min         1.053742\n",
       "25%         1.229623\n",
       "50%         1.373169\n",
       "75%         1.989869\n",
       "max        16.700094\n",
       "dtype: float64"
      ]
     },
     "execution_count": 29,
     "metadata": {},
     "output_type": "execute_result"
    }
   ],
   "source": [
    "pd.Series(ipw).describe()"
   ]
  },
  {
   "cell_type": "code",
   "execution_count": 28,
   "metadata": {},
   "outputs": [
    {
     "data": {
      "text/plain": [
       "<matplotlib.axes._subplots.AxesSubplot at 0x2768a218f88>"
      ]
     },
     "execution_count": 28,
     "metadata": {},
     "output_type": "execute_result"
    },
    {
     "data": {
      "image/png": "[encoded data removed]",
      "text/plain": [
       "<Figure size 576x432 with 1 Axes>"
      ]
     },
     "metadata": {
      "needs_background": "light"
     },
     "output_type": "display_data"
    }
   ],
   "source": [
    "fig, ax = plt.subplots(figsize=(8, 6))\n",
    "\n",
    "sns.distplot(ipw)\n",
    "sns.distplot(sw)"
   ]
  },
  {
   "cell_type": "markdown",
   "metadata": {},
   "source": [
    "## Ước tính treatment effect với SW\n",
    "\n",
    "Sau khi có stabilized IPW, ta có thể dùng 1 mô hình logistic như bài trước để ước tính treatment effect:"
   ]
  },
  {
   "cell_type": "code",
   "execution_count": 31,
   "metadata": {},
   "outputs": [
    {
     "data": {
      "text/html": [
       "<table class=\"simpletable\">\n",
       "<caption>GEE Regression Results</caption>\n",
       "<tr>\n",
       "  <th>Dep. Variable:</th>               <td>wt82_71</td>       <th>  No. Observations:  </th>   <td>1566</td>  \n",
       "</tr>\n",
       "<tr>\n",
       "  <th>Model:</th>                         <td>GEE</td>         <th>  No. clusters:      </th>   <td>1566</td>  \n",
       "</tr>\n",
       "<tr>\n",
       "  <th>Method:</th>                    <td>Generalized</td>     <th>  Min. cluster size: </th>     <td>1</td>   \n",
       "</tr>\n",
       "<tr>\n",
       "  <th></th>                      <td>Estimating Equations</td> <th>  Max. cluster size: </th>     <td>1</td>   \n",
       "</tr>\n",
       "<tr>\n",
       "  <th>Family:</th>                     <td>Gaussian</td>       <th>  Mean cluster size: </th>    <td>1.0</td>  \n",
       "</tr>\n",
       "<tr>\n",
       "  <th>Dependence structure:</th>     <td>Independence</td>     <th>  Num. iterations:   </th>     <td>1</td>   \n",
       "</tr>\n",
       "<tr>\n",
       "  <th>Date:</th>                   <td>Thu, 02 Jul 2020</td>   <th>  Scale:             </th>  <td>60.796</td> \n",
       "</tr>\n",
       "<tr>\n",
       "  <th>Covariance type: </th>            <td>robust</td>        <th>  Time:              </th> <td>20:19:49</td>\n",
       "</tr>\n",
       "</table>\n",
       "<table class=\"simpletable\">\n",
       "<tr>\n",
       "      <td></td>         <th>coef</th>     <th>std err</th>      <th>z</th>      <th>P>|z|</th>  <th>[0.025</th>    <th>0.975]</th>  \n",
       "</tr>\n",
       "<tr>\n",
       "  <th>Intercept</th> <td>    1.7800</td> <td>    0.225</td> <td>    7.920</td> <td> 0.000</td> <td>    1.340</td> <td>    2.220</td>\n",
       "</tr>\n",
       "<tr>\n",
       "  <th>qsmk</th>      <td>    3.4405</td> <td>    0.525</td> <td>    6.547</td> <td> 0.000</td> <td>    2.411</td> <td>    4.470</td>\n",
       "</tr>\n",
       "</table>\n",
       "<table class=\"simpletable\">\n",
       "<tr>\n",
       "  <th>Skew:</th>          <td>      0.1107</td> <th>  Kurtosis:          </th> <td>      3.7412</td>\n",
       "</tr>\n",
       "<tr>\n",
       "  <th>Centered skew:</th> <td>      0.0000</td> <th>  Centered kurtosis: </th> <td>     -3.0000</td>\n",
       "</tr>\n",
       "</table>"
      ],
      "text/plain": [
       "<class 'statsmodels.iolib.summary.Summary'>\n",
       "\"\"\"\n",
       "                               GEE Regression Results                              \n",
       "===================================================================================\n",
       "Dep. Variable:                     wt82_71   No. Observations:                 1566\n",
       "Model:                                 GEE   No. clusters:                     1566\n",
       "Method:                        Generalized   Min. cluster size:                   1\n",
       "                      Estimating Equations   Max. cluster size:                   1\n",
       "Family:                           Gaussian   Mean cluster size:                 1.0\n",
       "Dependence structure:         Independence   Num. iterations:                     1\n",
       "Date:                     Thu, 02 Jul 2020   Scale:                          60.796\n",
       "Covariance type:                    robust   Time:                         20:19:49\n",
       "==============================================================================\n",
       "                 coef    std err          z      P>|z|      [0.025      0.975]\n",
       "------------------------------------------------------------------------------\n",
       "Intercept      1.7800      0.225      7.920      0.000       1.340       2.220\n",
       "qsmk           3.4405      0.525      6.547      0.000       2.411       4.470\n",
       "==============================================================================\n",
       "Skew:                          0.1107   Kurtosis:                       3.7412\n",
       "Centered skew:                 0.0000   Centered kurtosis:             -3.0000\n",
       "==============================================================================\n",
       "\"\"\""
      ]
     },
     "execution_count": 31,
     "metadata": {},
     "output_type": "execute_result"
    }
   ],
   "source": [
    "df2['Intercept'] = X.Intercept\n",
    "\n",
    "gee = sm.GEE(\n",
    "    df2.wt82_71,\n",
    "    df2[['Intercept', 'qsmk']],\n",
    "    groups=df2.seqn,\n",
    "    weights=sw).fit()\n",
    "\n",
    "gee.summary()"
   ]
  },
  {
   "cell_type": "markdown",
   "metadata": {},
   "source": [
    "Kết quả này tương đương với trong sách: $\\theta$ = 3.4 kg (95%CI: 2.4 đến 4.5)"
   ]
  },
  {
   "cell_type": "code",
   "execution_count": 33,
   "metadata": {},
   "outputs": [
    {
     "data": {
      "text/html": [
       "<table class=\"simpletable\">\n",
       "<caption>GEE Regression Results</caption>\n",
       "<tr>\n",
       "  <th>Dep. Variable:</th>               <td>wt82_71</td>       <th>  No. Observations:  </th>   <td>1566</td>  \n",
       "</tr>\n",
       "<tr>\n",
       "  <th>Model:</th>                         <td>GEE</td>         <th>  No. clusters:      </th>   <td>1566</td>  \n",
       "</tr>\n",
       "<tr>\n",
       "  <th>Method:</th>                    <td>Generalized</td>     <th>  Min. cluster size: </th>     <td>1</td>   \n",
       "</tr>\n",
       "<tr>\n",
       "  <th></th>                      <td>Estimating Equations</td> <th>  Max. cluster size: </th>     <td>1</td>   \n",
       "</tr>\n",
       "<tr>\n",
       "  <th>Family:</th>                     <td>Gaussian</td>       <th>  Mean cluster size: </th>    <td>1.0</td>  \n",
       "</tr>\n",
       "<tr>\n",
       "  <th>Dependence structure:</th>     <td>Independence</td>     <th>  Num. iterations:   </th>     <td>1</td>   \n",
       "</tr>\n",
       "<tr>\n",
       "  <th>Date:</th>                   <td>Thu, 02 Jul 2020</td>   <th>  Scale:             </th>  <td>65.147</td> \n",
       "</tr>\n",
       "<tr>\n",
       "  <th>Covariance type: </th>            <td>robust</td>        <th>  Time:              </th> <td>20:23:24</td>\n",
       "</tr>\n",
       "</table>\n",
       "<table class=\"simpletable\">\n",
       "<tr>\n",
       "      <td></td>         <th>coef</th>     <th>std err</th>      <th>z</th>      <th>P>|z|</th>  <th>[0.025</th>    <th>0.975]</th>  \n",
       "</tr>\n",
       "<tr>\n",
       "  <th>Intercept</th> <td>    1.7800</td> <td>    0.225</td> <td>    7.920</td> <td> 0.000</td> <td>    1.340</td> <td>    2.220</td>\n",
       "</tr>\n",
       "<tr>\n",
       "  <th>qsmk</th>      <td>    3.4405</td> <td>    0.525</td> <td>    6.547</td> <td> 0.000</td> <td>    2.411</td> <td>    4.470</td>\n",
       "</tr>\n",
       "</table>\n",
       "<table class=\"simpletable\">\n",
       "<tr>\n",
       "  <th>Skew:</th>          <td>      0.1107</td> <th>  Kurtosis:          </th> <td>      3.7412</td>\n",
       "</tr>\n",
       "<tr>\n",
       "  <th>Centered skew:</th> <td>      0.0000</td> <th>  Centered kurtosis: </th> <td>     -3.0000</td>\n",
       "</tr>\n",
       "</table>"
      ],
      "text/plain": [
       "<class 'statsmodels.iolib.summary.Summary'>\n",
       "\"\"\"\n",
       "                               GEE Regression Results                              \n",
       "===================================================================================\n",
       "Dep. Variable:                     wt82_71   No. Observations:                 1566\n",
       "Model:                                 GEE   No. clusters:                     1566\n",
       "Method:                        Generalized   Min. cluster size:                   1\n",
       "                      Estimating Equations   Max. cluster size:                   1\n",
       "Family:                           Gaussian   Mean cluster size:                 1.0\n",
       "Dependence structure:         Independence   Num. iterations:                     1\n",
       "Date:                     Thu, 02 Jul 2020   Scale:                          65.147\n",
       "Covariance type:                    robust   Time:                         20:23:24\n",
       "==============================================================================\n",
       "                 coef    std err          z      P>|z|      [0.025      0.975]\n",
       "------------------------------------------------------------------------------\n",
       "Intercept      1.7800      0.225      7.920      0.000       1.340       2.220\n",
       "qsmk           3.4405      0.525      6.547      0.000       2.411       4.470\n",
       "==============================================================================\n",
       "Skew:                          0.1107   Kurtosis:                       3.7412\n",
       "Centered skew:                 0.0000   Centered kurtosis:             -3.0000\n",
       "==============================================================================\n",
       "\"\"\""
      ]
     },
     "execution_count": 33,
     "metadata": {},
     "output_type": "execute_result"
    }
   ],
   "source": [
    "gee = sm.GEE(\n",
    "    df2.wt82_71,\n",
    "    df2[['Intercept', 'qsmk']],\n",
    "    groups=df2.seqn,\n",
    "    weights=ipw).fit()\n",
    "\n",
    "gee.summary()"
   ]
  },
  {
   "cell_type": "markdown",
   "metadata": {},
   "source": [
    "So với kết quả khi dùng unstabilized IPW, ta không thấy có sự khác biệt nào cả ? Vậy tại sao lại phải mất công đi tính stabilized IPW làm chi ? Câu trả lời nằm ở trang 154, theo đó trong trường hợp can thiệp A là biến nhị phân, mô hình E[Outcome|A] = b0 + (A =1)* b1 là bão hòa; nhưng nếu có thêm yếu tố thời gian hay A là biến liên tục (thí dụ liều thuốc, cường độ can thiệp), khi đó stabilized ip weighting sẽ hiệu quả hơn. \n",
    "\n",
    "Bài thực hành đến đây tạm dừng, hẹn gặp lại trong Phần 3, sẽ bàn về Marginal structural model"
   ]
  },
  {
   "cell_type": "code",
   "execution_count": null,
   "metadata": {},
   "outputs": [],
   "source": []
  }
 ],
 "metadata": {
  "hide_input": false,
  "kernelspec": {
   "display_name": "Python 3",
   "language": "python",
   "name": "python3"
  },
  "language_info": {
   "codemirror_mode": {
    "name": "ipython",
    "version": 3
   },
   "file_extension": ".py",
   "mimetype": "text/x-python",
   "name": "python",
   "nbconvert_exporter": "python",
   "pygments_lexer": "ipython3",
   "version": "3.7.6"
  },
  "toc": {
   "base_numbering": 1,
   "nav_menu": {},
   "number_sections": true,
   "sideBar": true,
   "skip_h1_title": false,
   "title_cell": "Table of Contents",
   "title_sidebar": "Contents",
   "toc_cell": false,
   "toc_position": {},
   "toc_section_display": true,
   "toc_window_display": false
  }
 },
 "nbformat": 4,
 "nbformat_minor": 4
}
